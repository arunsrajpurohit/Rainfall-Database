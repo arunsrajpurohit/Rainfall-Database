{
  "nbformat": 4,
  "nbformat_minor": 0,
  "metadata": {
    "colab": {
      "provenance": [],
      "authorship_tag": "ABX9TyMsVisEyzQ3At6wnKItYrus",
      "include_colab_link": true
    },
    "kernelspec": {
      "name": "python3",
      "display_name": "Python 3"
    },
    "language_info": {
      "name": "python"
    }
  },
  "cells": [
    {
      "cell_type": "markdown",
      "metadata": {
        "id": "view-in-github",
        "colab_type": "text"
      },
      "source": [
        "<a href=\"https://colab.research.google.com/github/arunsrajpurohit/Rainfall-Database/blob/main/Importing_Data_from_IMD_and_Shaping_into_a_usable_database_Then_saving_it_as_CSV_in_google_drive.ipynb\" target=\"_parent\"><img src=\"https://colab.research.google.com/assets/colab-badge.svg\" alt=\"Open In Colab\"/></a>"
      ]
    },
    {
      "cell_type": "code",
      "source": [
        "#imdlib library is of Indian Meteorological Department for accessing data\n",
        "\n",
        "! pip install imdlib\n",
        "import numpy as np\n",
        "import pandas as pd\n",
        "import imdlib as imd\n",
        "from google.colab import drive\n",
        "drive.mount('/content/drive')"
      ],
      "metadata": {
        "colab": {
          "base_uri": "https://localhost:8080/"
        },
        "id": "vgMez717d3II",
        "outputId": "950e865a-17aa-42e8-88db-e6e4e8718324"
      },
      "execution_count": null,
      "outputs": [
        {
          "output_type": "stream",
          "name": "stdout",
          "text": [
            "Collecting imdlib\n",
            "  Downloading imdlib-0.1.17-py3-none-any.whl (19 kB)\n",
            "Requirement already satisfied: matplotlib in /usr/local/lib/python3.10/dist-packages (from imdlib) (3.7.1)\n",
            "Requirement already satisfied: numpy in /usr/local/lib/python3.10/dist-packages (from imdlib) (1.22.4)\n",
            "Requirement already satisfied: pandas in /usr/local/lib/python3.10/dist-packages (from imdlib) (1.5.3)\n",
            "Requirement already satisfied: six in /usr/local/lib/python3.10/dist-packages (from imdlib) (1.16.0)\n",
            "Requirement already satisfied: python-dateutil in /usr/local/lib/python3.10/dist-packages (from imdlib) (2.8.2)\n",
            "Requirement already satisfied: pytz in /usr/local/lib/python3.10/dist-packages (from imdlib) (2022.7.1)\n",
            "Requirement already satisfied: urllib3 in /usr/local/lib/python3.10/dist-packages (from imdlib) (1.26.16)\n",
            "Requirement already satisfied: scipy in /usr/local/lib/python3.10/dist-packages (from imdlib) (1.10.1)\n",
            "Requirement already satisfied: xarray in /usr/local/lib/python3.10/dist-packages (from imdlib) (2022.12.0)\n",
            "Requirement already satisfied: requests in /usr/local/lib/python3.10/dist-packages (from imdlib) (2.27.1)\n",
            "Requirement already satisfied: contourpy>=1.0.1 in /usr/local/lib/python3.10/dist-packages (from matplotlib->imdlib) (1.1.0)\n",
            "Requirement already satisfied: cycler>=0.10 in /usr/local/lib/python3.10/dist-packages (from matplotlib->imdlib) (0.11.0)\n",
            "Requirement already satisfied: fonttools>=4.22.0 in /usr/local/lib/python3.10/dist-packages (from matplotlib->imdlib) (4.40.0)\n",
            "Requirement already satisfied: kiwisolver>=1.0.1 in /usr/local/lib/python3.10/dist-packages (from matplotlib->imdlib) (1.4.4)\n",
            "Requirement already satisfied: packaging>=20.0 in /usr/local/lib/python3.10/dist-packages (from matplotlib->imdlib) (23.1)\n",
            "Requirement already satisfied: pillow>=6.2.0 in /usr/local/lib/python3.10/dist-packages (from matplotlib->imdlib) (8.4.0)\n",
            "Requirement already satisfied: pyparsing>=2.3.1 in /usr/local/lib/python3.10/dist-packages (from matplotlib->imdlib) (3.1.0)\n",
            "Requirement already satisfied: certifi>=2017.4.17 in /usr/local/lib/python3.10/dist-packages (from requests->imdlib) (2023.5.7)\n",
            "Requirement already satisfied: charset-normalizer~=2.0.0 in /usr/local/lib/python3.10/dist-packages (from requests->imdlib) (2.0.12)\n",
            "Requirement already satisfied: idna<4,>=2.5 in /usr/local/lib/python3.10/dist-packages (from requests->imdlib) (3.4)\n",
            "Installing collected packages: imdlib\n",
            "Successfully installed imdlib-0.1.17\n",
            "Mounted at /content/drive\n"
          ]
        }
      ]
    },
    {
      "cell_type": "code",
      "execution_count": null,
      "metadata": {
        "colab": {
          "base_uri": "https://localhost:8080/"
        },
        "id": "1DmrFmBTdwCa",
        "outputId": "fcb29e86-300c-4f58-a69e-8a613e3d9927"
      },
      "outputs": [
        {
          "output_type": "stream",
          "name": "stdout",
          "text": [
            "Error in opening data: Error in file reading,mismatch in size of data-length\n"
          ]
        }
      ],
      "source": [
        "start_yr = 1901  # Starting year to download and convert data from\n",
        "end_yr = 2022  # Ending year\n",
        "variable = 'rain'  # Variable name (rain for rainfall at 0.25 deg) as we want rainfall data only\n",
        "file_format = 'yearwise'  # Data for each file will be saved yearly\n",
        "file_dir = '/content/drive/MyDrive/rainfall_data/rain'  # Path to the directory in Google Drive where CSV file will be saved\n",
        "\n",
        "error_years = []\n",
        "\n",
        "try:\n",
        "    data = imd.open_data(variable, start_yr, end_yr, 'yearwise', file_dir)\n",
        "    if variable == 'rain':\n",
        "        grid_size = 0.25\n",
        "        y_count = 129\n",
        "        x_count = 135\n",
        "        x = 66.5\n",
        "        y = 6.5\n",
        "\n",
        "    np_array = data.data\n",
        "\n",
        "    years_no = (end_yr - start_yr) + 1\n",
        "    day = 0\n",
        "\n",
        "    for yr in range(0, years_no):\n",
        "        try:\n",
        "            filename = file_dir + str(start_yr + yr) + \"_\" + str(variable) + \".csv\"\n",
        "            with open(filename, 'w') as f:\n",
        "                if ((start_yr + yr) % 4 == 0) and ((start_yr + yr) % 100 != 0):  # Check for leap year\n",
        "                    days = 366\n",
        "                    count = yr + days\n",
        "                elif ((start_yr + yr) % 4 == 0) and ((start_yr + yr) % 100 == 0) and ((start_yr + yr) % 400 == 0):\n",
        "                    days = 366\n",
        "                    count = yr + days\n",
        "                else:\n",
        "                    days = 365\n",
        "                    count = yr + days\n",
        "\n",
        "                day = day + days\n",
        "\n",
        "                f.write(\"X,Y,\")\n",
        "                for d in range(0, days):\n",
        "                    f.write(str(d + 1))\n",
        "                    f.write(\",\")\n",
        "                f.write(\"\\n\")\n",
        "\n",
        "                for j in range(0, y_count):\n",
        "                    for i in range(0, x_count):\n",
        "                        f.write(str((i * grid_size) + x))\n",
        "                        f.write(\",\")\n",
        "                        f.write(str((j * grid_size) + y))\n",
        "                        f.write(\",\")\n",
        "                        time = 0\n",
        "                        for k in range(day - days, day):\n",
        "                            val = np_array[k, i, j]\n",
        "                            if val == 99.9000015258789 or val == -999:\n",
        "                                f.write(str(-9999))\n",
        "                                f.write(\",\")\n",
        "                            else:\n",
        "                                f.write(str(val))\n",
        "                                f.write(\",\")\n",
        "                        f.write(\"\\n\")\n",
        "            print(\"File for \" + str(start_yr + yr) + \"_\" + str(variable) + \" is saved\")\n",
        "        except Exception as e:\n",
        "            print(\"Error occurred for year \" + str(start_yr + yr) + \": \" + str(e))\n",
        "            error_years.append(start_yr + yr)\n",
        "            continue\n",
        "\n",
        "    print(\"CSV conversion successful!\")\n",
        "    if error_years:\n",
        "        print(\"Errors occurred in the following years:\")\n",
        "        print(error_years)\n",
        "except Exception as e:\n",
        "    print(\"Error in opening data:\", str(e))\n"
      ]
    }
  ]
}