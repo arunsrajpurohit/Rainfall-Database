{
  "cells": [
    {
      "cell_type": "markdown",
      "metadata": {
        "id": "view-in-github",
        "colab_type": "text"
      },
      "source": [
        "<a href=\"https://colab.research.google.com/github/arunsrajpurohit/Rainfall-Database/blob/main/Integrating_all_data_in_single_database.ipynb\" target=\"_parent\"><img src=\"https://colab.research.google.com/assets/colab-badge.svg\" alt=\"Open In Colab\"/></a>"
      ]
    },
    {
      "cell_type": "code",
      "execution_count": null,
      "metadata": {
        "colab": {
          "background_save": true
        },
        "id": "5-jZJJolHB2c",
        "outputId": "41423d93-33c0-4fbc-c653-ba4fb778d350"
      },
      "outputs": [
        {
          "ename": "OperationalError",
          "evalue": "ignored",
          "output_type": "error",
          "traceback": [
            "\u001b[0;31m---------------------------------------------------------------------------\u001b[0m",
            "\u001b[0;31mOperationalError\u001b[0m                          Traceback (most recent call last)",
            "\u001b[0;32m<ipython-input-10-e3c7395503c9>\u001b[0m in \u001b[0;36m<cell line: 34>\u001b[0;34m()\u001b[0m\n\u001b[1;32m     32\u001b[0m \u001b[0mplaceholders\u001b[0m \u001b[0;34m=\u001b[0m \u001b[0;34m', '\u001b[0m\u001b[0;34m.\u001b[0m\u001b[0mjoin\u001b[0m\u001b[0;34m(\u001b[0m\u001b[0;34m[\u001b[0m\u001b[0;34m'?'\u001b[0m \u001b[0;32mfor\u001b[0m \u001b[0m_\u001b[0m \u001b[0;32min\u001b[0m \u001b[0mrange\u001b[0m\u001b[0;34m(\u001b[0m\u001b[0mnum_columns\u001b[0m \u001b[0;34m+\u001b[0m \u001b[0;36m1\u001b[0m\u001b[0;34m)\u001b[0m\u001b[0;34m]\u001b[0m\u001b[0;34m)\u001b[0m  \u001b[0;31m# +1 for RowNumber\u001b[0m\u001b[0;34m\u001b[0m\u001b[0;34m\u001b[0m\u001b[0m\n\u001b[1;32m     33\u001b[0m \u001b[0mcreate_table_query\u001b[0m \u001b[0;34m=\u001b[0m \u001b[0;34mf'CREATE TABLE IF NOT EXISTS combined_data (RowNumber INTEGER, {placeholders})'\u001b[0m\u001b[0;34m\u001b[0m\u001b[0;34m\u001b[0m\u001b[0m\n\u001b[0;32m---> 34\u001b[0;31m \u001b[0mcursor\u001b[0m\u001b[0;34m.\u001b[0m\u001b[0mexecute\u001b[0m\u001b[0;34m(\u001b[0m\u001b[0mcreate_table_query\u001b[0m\u001b[0;34m)\u001b[0m\u001b[0;34m\u001b[0m\u001b[0;34m\u001b[0m\u001b[0m\n\u001b[0m\u001b[1;32m     35\u001b[0m \u001b[0;34m\u001b[0m\u001b[0m\n\u001b[1;32m     36\u001b[0m \u001b[0;31m# Iterate over the CSV file paths and retrieve the data\u001b[0m\u001b[0;34m\u001b[0m\u001b[0;34m\u001b[0m\u001b[0m\n",
            "\u001b[0;31mOperationalError\u001b[0m: near \"?\": syntax error"
          ]
        }
      ],
      "source": [
        "import csv\n",
        "import os\n",
        "import sqlite3\n",
        "from google.colab import drive\n",
        "drive.mount('/content/drive')\n",
        "\n",
        "csv_file_paths = [\n",
        "    '/content/drive/MyDrive/rainfall_data/Individual_CSVs_done/1901_data_done.csv',\n",
        "     '/content/drive/MyDrive/rainfall_data/Individual_CSVs_done/1902_data_done.csv', '/content/drive/MyDrive/rainfall_data/Individual_CSVs_done/1903_data_done.csv', '/content/drive/MyDrive/rainfall_data/Individual_CSVs_done/1904_data_done.csv', '/content/drive/MyDrive/rainfall_data/Individual_CSVs_done/1905_data_done.csv',\n",
        "              '/content/drive/MyDrive/rainfall_data/Individual_CSVs_done/1906_data_done.csv', '/content/drive/MyDrive/rainfall_data/Individual_CSVs_done/1907_data_done.csv', '/content/drive/MyDrive/rainfall_data/Individual_CSVs_done/1910_data_done.csv', '/content/drive/MyDrive/rainfall_data/Individual_CSVs_done/1911_data_done.csv', '/content/drive/MyDrive/rainfall_data/Individual_CSVs_done/1914_data_done.csv',\n",
        "              '/content/drive/MyDrive/rainfall_data/Individual_CSVs_done/1915_data_done.csv', '/content/drive/MyDrive/rainfall_data/Individual_CSVs_done/1918_data_done.csv', '/content/drive/MyDrive/rainfall_data/Individual_CSVs_done/1919_data_done.csv', '/content/drive/MyDrive/rainfall_data/Individual_CSVs_done/1921_data_done.csv', '/content/drive/MyDrive/rainfall_data/Individual_CSVs_done/1923_data_done.csv',\n",
        "              '/content/drive/MyDrive/rainfall_data/Individual_CSVs_done/1925_data_done.csv', '/content/drive/MyDrive/rainfall_data/Individual_CSVs_done/1927_data_done.csv', '/content/drive/MyDrive/rainfall_data/Individual_CSVs_done/1929_data_done.csv', '/content/drive/MyDrive/rainfall_data/Individual_CSVs_done/1931_data_done.csv', '/content/drive/MyDrive/rainfall_data/Individual_CSVs_done/1933_data_done.csv',\n",
        "              '/content/drive/MyDrive/rainfall_data/Individual_CSVs_done/1935_data_done.csv', '/content/drive/MyDrive/rainfall_data/Individual_CSVs_done/1937_data_done.csv', '/content/drive/MyDrive/rainfall_data/Individual_CSVs_done/1939_data_done.csv', '/content/drive/MyDrive/rainfall_data/Individual_CSVs_done/1941_data_done.csv', '/content/drive/MyDrive/rainfall_data/Individual_CSVs_done/1943_data_done.csv',\n",
        "              '/content/drive/MyDrive/rainfall_data/Individual_CSVs_done/1945_data_done.csv', '/content/drive/MyDrive/rainfall_data/Individual_CSVs_done/1947_data_done.csv', '/content/drive/MyDrive/rainfall_data/Individual_CSVs_done/1949_data_done.csv', '/content/drive/MyDrive/rainfall_data/Individual_CSVs_done/1951_data_done.csv', '/content/drive/MyDrive/rainfall_data/Individual_CSVs_done/1953_data_done.csv',\n",
        "              '/content/drive/MyDrive/rainfall_data/Individual_CSVs_done/1955_data_done.csv', '/content/drive/MyDrive/rainfall_data/Individual_CSVs_done/1957_data_done.csv', '/content/drive/MyDrive/rainfall_data/Individual_CSVs_done/1959_data_done.csv', '/content/drive/MyDrive/rainfall_data/Individual_CSVs_done/1961_data_done.csv', '/content/drive/MyDrive/rainfall_data/Individual_CSVs_done/1963_data_done.csv',\n",
        "              '/content/drive/MyDrive/rainfall_data/Individual_CSVs_done/1965_data_done.csv', '/content/drive/MyDrive/rainfall_data/Individual_CSVs_done/1967_data_done.csv', '/content/drive/MyDrive/rainfall_data/Individual_CSVs_done/1969_data_done.csv', '/content/drive/MyDrive/rainfall_data/Individual_CSVs_done/1971_data_done.csv', '/content/drive/MyDrive/rainfall_data/Individual_CSVs_done/1973_data_done.csv',\n",
        "              '/content/drive/MyDrive/rainfall_data/Individual_CSVs_done/1975_data_done.csv', '/content/drive/MyDrive/rainfall_data/Individual_CSVs_done/1977_data_done.csv', '/content/drive/MyDrive/rainfall_data/Individual_CSVs_done/1979_data_done.csv', '/content/drive/MyDrive/rainfall_data/Individual_CSVs_done/1981_data_done.csv', '/content/drive/MyDrive/rainfall_data/Individual_CSVs_done/1983_data_done.csv',\n",
        "              '/content/drive/MyDrive/rainfall_data/Individual_CSVs_done/1985_data_done.csv', '/content/drive/MyDrive/rainfall_data/Individual_CSVs_done/1987_data_done.csv', '/content/drive/MyDrive/rainfall_data/Individual_CSVs_done/1989_data_done.csv', '/content/drive/MyDrive/rainfall_data/Individual_CSVs_done/1991_data_done.csv', '/content/drive/MyDrive/rainfall_data/Individual_CSVs_done/1993_data_done.csv',\n",
        "              '/content/drive/MyDrive/rainfall_data/Individual_CSVs_done/1995_data_done.csv', '/content/drive/MyDrive/rainfall_data/Individual_CSVs_done/1997_data_done.csv', '/content/drive/MyDrive/rainfall_data/Individual_CSVs_done/1999_data_done.csv', '/content/drive/MyDrive/rainfall_data/Individual_CSVs_done/2001_data_done.csv', '/content/drive/MyDrive/rainfall_data/Individual_CSVs_done/2003_data_done.csv',\n",
        "              '/content/drive/MyDrive/rainfall_data/Individual_CSVs_done/2005_data_done.csv', '/content/drive/MyDrive/rainfall_data/Individual_CSVs_done/2007_data_done.csv', '/content/drive/MyDrive/rainfall_data/Individual_CSVs_done/2009_data_done.csv', '/content/drive/MyDrive/rainfall_data/Individual_CSVs_done/2011_data_done.csv', '/content/drive/MyDrive/rainfall_data/Individual_CSVs_done/2013_data_done.csv',\n",
        "              '/content/drive/MyDrive/rainfall_data/Individual_CSVs_done/2015_data_done.csv', '/content/drive/MyDrive/rainfall_data/Individual_CSVs_done/2017_data_done.csv', '/content/drive/MyDrive/rainfall_data/Individual_CSVs_done/2019_data_done.csv', '/content/drive/MyDrive/rainfall_data/Individual_CSVs_done/2021_data_done.csv'\n",
        "\n",
        "]\n",
        "conn = sqlite3.connect('combined_data.db')\n",
        "\n",
        "cursor = conn.cursor()\n",
        "\n",
        "num_columns = 368\n",
        "placeholders = ', '.join(['?' for _ in range(num_columns + 1)])\n",
        "create_table_query = f'CREATE TABLE IF NOT EXISTS combined_data (RowNumber INTEGER, {placeholders})'\n",
        "cursor.execute(create_table_query)\n",
        "\n",
        "combined_rows = []\n",
        "row_number = 1\n",
        "for file_path in csv_file_paths:\n",
        "    with open(file_path, 'r') as csv_file:\n",
        "        csv_reader = csv.reader(csv_file)\n",
        "\n",
        "        next(csv_reader)\n",
        "\n",
        "        for row in csv_reader:\n",
        "            combined_rows.append([row_number] + row)\n",
        "            row_number += 1\n",
        "\n",
        "insert_query = f'INSERT INTO combined_data VALUES ({\", \".join([\"?\"] * (num_columns + 1))})'\n",
        "cursor.executemany(insert_query, combined_rows)\n",
        "\n",
        "conn.commit()\n",
        "\n",
        "cursor.execute('SELECT * FROM combined_data ORDER BY RowNumber')\n",
        "rows = cursor.fetchall()\n",
        "\n",
        "for row in rows:\n",
        "    print(row)\n",
        "\n",
        "cursor.close()\n",
        "conn.close()\n"
      ]
    },
    {
      "cell_type": "code",
      "source": [],
      "metadata": {
        "id": "LP8zZh9VfPzU"
      },
      "execution_count": null,
      "outputs": []
    }
  ],
  "metadata": {
    "colab": {
      "provenance": [],
      "authorship_tag": "ABX9TyOmkVFpKRucvK/zn+uD/EmP",
      "include_colab_link": true
    },
    "kernelspec": {
      "display_name": "Python 3",
      "name": "python3"
    },
    "language_info": {
      "name": "python"
    }
  },
  "nbformat": 4,
  "nbformat_minor": 0
}